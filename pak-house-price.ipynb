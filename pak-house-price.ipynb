{
 "cells": [
  {
   "cell_type": "code",
   "execution_count": 1,
   "id": "a62b6b37",
   "metadata": {
    "execution": {
     "iopub.execute_input": "2023-12-31T14:39:48.563419Z",
     "iopub.status.busy": "2023-12-31T14:39:48.562976Z",
     "iopub.status.idle": "2023-12-31T14:39:48.983892Z",
     "shell.execute_reply": "2023-12-31T14:39:48.982721Z"
    },
    "papermill": {
     "duration": 0.437949,
     "end_time": "2023-12-31T14:39:48.986778",
     "exception": false,
     "start_time": "2023-12-31T14:39:48.548829",
     "status": "completed"
    },
    "tags": []
   },
   "outputs": [],
   "source": [
    "import pandas as pd\n",
    "import numpy as np\n",
    "import matplotlib.pyplot as plt\n"
   ]
  },
  {
   "cell_type": "code",
   "execution_count": 2,
   "id": "5af2bfa7",
   "metadata": {
    "execution": {
     "iopub.execute_input": "2023-12-31T14:39:49.012151Z",
     "iopub.status.busy": "2023-12-31T14:39:49.011301Z",
     "iopub.status.idle": "2023-12-31T14:39:49.293653Z",
     "shell.execute_reply": "2023-12-31T14:39:49.292603Z"
    },
    "papermill": {
     "duration": 0.298104,
     "end_time": "2023-12-31T14:39:49.296441",
     "exception": false,
     "start_time": "2023-12-31T14:39:48.998337",
     "status": "completed"
    },
    "tags": []
   },
   "outputs": [],
   "source": [
    "df = pd.read_csv(\"/kaggle/input/house-prices-2023/house_prices.csv\")"
   ]
  },
  {
   "cell_type": "code",
   "execution_count": 3,
   "id": "ca086f82",
   "metadata": {
    "execution": {
     "iopub.execute_input": "2023-12-31T14:39:49.321601Z",
     "iopub.status.busy": "2023-12-31T14:39:49.321151Z",
     "iopub.status.idle": "2023-12-31T14:39:49.358957Z",
     "shell.execute_reply": "2023-12-31T14:39:49.357827Z"
    },
    "papermill": {
     "duration": 0.053363,
     "end_time": "2023-12-31T14:39:49.361251",
     "exception": false,
     "start_time": "2023-12-31T14:39:49.307888",
     "status": "completed"
    },
    "tags": []
   },
   "outputs": [
    {
     "data": {
      "text/html": [
       "<div>\n",
       "<style scoped>\n",
       "    .dataframe tbody tr th:only-of-type {\n",
       "        vertical-align: middle;\n",
       "    }\n",
       "\n",
       "    .dataframe tbody tr th {\n",
       "        vertical-align: top;\n",
       "    }\n",
       "\n",
       "    .dataframe thead th {\n",
       "        text-align: right;\n",
       "    }\n",
       "</style>\n",
       "<table border=\"1\" class=\"dataframe\">\n",
       "  <thead>\n",
       "    <tr style=\"text-align: right;\">\n",
       "      <th></th>\n",
       "      <th>Unnamed: 0</th>\n",
       "      <th>property_type</th>\n",
       "      <th>price</th>\n",
       "      <th>location</th>\n",
       "      <th>city</th>\n",
       "      <th>baths</th>\n",
       "      <th>purpose</th>\n",
       "      <th>bedrooms</th>\n",
       "      <th>Area_in_Marla</th>\n",
       "    </tr>\n",
       "  </thead>\n",
       "  <tbody>\n",
       "    <tr>\n",
       "      <th>0</th>\n",
       "      <td>0</td>\n",
       "      <td>Flat</td>\n",
       "      <td>10000000</td>\n",
       "      <td>G-10</td>\n",
       "      <td>Islamabad</td>\n",
       "      <td>2</td>\n",
       "      <td>For Sale</td>\n",
       "      <td>2</td>\n",
       "      <td>4.0</td>\n",
       "    </tr>\n",
       "    <tr>\n",
       "      <th>1</th>\n",
       "      <td>1</td>\n",
       "      <td>Flat</td>\n",
       "      <td>6900000</td>\n",
       "      <td>E-11</td>\n",
       "      <td>Islamabad</td>\n",
       "      <td>3</td>\n",
       "      <td>For Sale</td>\n",
       "      <td>3</td>\n",
       "      <td>5.6</td>\n",
       "    </tr>\n",
       "    <tr>\n",
       "      <th>2</th>\n",
       "      <td>2</td>\n",
       "      <td>House</td>\n",
       "      <td>16500000</td>\n",
       "      <td>G-15</td>\n",
       "      <td>Islamabad</td>\n",
       "      <td>6</td>\n",
       "      <td>For Sale</td>\n",
       "      <td>5</td>\n",
       "      <td>8.0</td>\n",
       "    </tr>\n",
       "    <tr>\n",
       "      <th>3</th>\n",
       "      <td>3</td>\n",
       "      <td>House</td>\n",
       "      <td>43500000</td>\n",
       "      <td>Bani Gala</td>\n",
       "      <td>Islamabad</td>\n",
       "      <td>4</td>\n",
       "      <td>For Sale</td>\n",
       "      <td>4</td>\n",
       "      <td>40.0</td>\n",
       "    </tr>\n",
       "    <tr>\n",
       "      <th>4</th>\n",
       "      <td>4</td>\n",
       "      <td>House</td>\n",
       "      <td>7000000</td>\n",
       "      <td>DHA Defence</td>\n",
       "      <td>Islamabad</td>\n",
       "      <td>3</td>\n",
       "      <td>For Sale</td>\n",
       "      <td>3</td>\n",
       "      <td>8.0</td>\n",
       "    </tr>\n",
       "    <tr>\n",
       "      <th>...</th>\n",
       "      <td>...</td>\n",
       "      <td>...</td>\n",
       "      <td>...</td>\n",
       "      <td>...</td>\n",
       "      <td>...</td>\n",
       "      <td>...</td>\n",
       "      <td>...</td>\n",
       "      <td>...</td>\n",
       "      <td>...</td>\n",
       "    </tr>\n",
       "    <tr>\n",
       "      <th>99494</th>\n",
       "      <td>168435</td>\n",
       "      <td>Flat</td>\n",
       "      <td>7500000</td>\n",
       "      <td>Bahria Town Karachi</td>\n",
       "      <td>Karachi</td>\n",
       "      <td>3</td>\n",
       "      <td>For Sale</td>\n",
       "      <td>3</td>\n",
       "      <td>8.0</td>\n",
       "    </tr>\n",
       "    <tr>\n",
       "      <th>99495</th>\n",
       "      <td>168436</td>\n",
       "      <td>House</td>\n",
       "      <td>8800000</td>\n",
       "      <td>Bahria Town Karachi</td>\n",
       "      <td>Karachi</td>\n",
       "      <td>4</td>\n",
       "      <td>For Sale</td>\n",
       "      <td>3</td>\n",
       "      <td>8.0</td>\n",
       "    </tr>\n",
       "    <tr>\n",
       "      <th>99496</th>\n",
       "      <td>168438</td>\n",
       "      <td>House</td>\n",
       "      <td>14000000</td>\n",
       "      <td>Bahria Town Karachi</td>\n",
       "      <td>Karachi</td>\n",
       "      <td>3</td>\n",
       "      <td>For Sale</td>\n",
       "      <td>3</td>\n",
       "      <td>8.0</td>\n",
       "    </tr>\n",
       "    <tr>\n",
       "      <th>99497</th>\n",
       "      <td>168439</td>\n",
       "      <td>House</td>\n",
       "      <td>14000000</td>\n",
       "      <td>Bahria Town Karachi</td>\n",
       "      <td>Karachi</td>\n",
       "      <td>4</td>\n",
       "      <td>For Sale</td>\n",
       "      <td>4</td>\n",
       "      <td>14.0</td>\n",
       "    </tr>\n",
       "    <tr>\n",
       "      <th>99498</th>\n",
       "      <td>168445</td>\n",
       "      <td>House</td>\n",
       "      <td>9000000</td>\n",
       "      <td>Bahria Town Karachi</td>\n",
       "      <td>Karachi</td>\n",
       "      <td>3</td>\n",
       "      <td>For Sale</td>\n",
       "      <td>3</td>\n",
       "      <td>9.4</td>\n",
       "    </tr>\n",
       "  </tbody>\n",
       "</table>\n",
       "<p>99499 rows × 9 columns</p>\n",
       "</div>"
      ],
      "text/plain": [
       "       Unnamed: 0 property_type     price             location       city  \\\n",
       "0               0          Flat  10000000                 G-10  Islamabad   \n",
       "1               1          Flat   6900000                 E-11  Islamabad   \n",
       "2               2         House  16500000                 G-15  Islamabad   \n",
       "3               3         House  43500000            Bani Gala  Islamabad   \n",
       "4               4         House   7000000          DHA Defence  Islamabad   \n",
       "...           ...           ...       ...                  ...        ...   \n",
       "99494      168435          Flat   7500000  Bahria Town Karachi    Karachi   \n",
       "99495      168436         House   8800000  Bahria Town Karachi    Karachi   \n",
       "99496      168438         House  14000000  Bahria Town Karachi    Karachi   \n",
       "99497      168439         House  14000000  Bahria Town Karachi    Karachi   \n",
       "99498      168445         House   9000000  Bahria Town Karachi    Karachi   \n",
       "\n",
       "       baths   purpose  bedrooms  Area_in_Marla  \n",
       "0          2  For Sale         2            4.0  \n",
       "1          3  For Sale         3            5.6  \n",
       "2          6  For Sale         5            8.0  \n",
       "3          4  For Sale         4           40.0  \n",
       "4          3  For Sale         3            8.0  \n",
       "...      ...       ...       ...            ...  \n",
       "99494      3  For Sale         3            8.0  \n",
       "99495      4  For Sale         3            8.0  \n",
       "99496      3  For Sale         3            8.0  \n",
       "99497      4  For Sale         4           14.0  \n",
       "99498      3  For Sale         3            9.4  \n",
       "\n",
       "[99499 rows x 9 columns]"
      ]
     },
     "execution_count": 3,
     "metadata": {},
     "output_type": "execute_result"
    }
   ],
   "source": [
    "df"
   ]
  },
  {
   "cell_type": "code",
   "execution_count": 4,
   "id": "9e9617c6",
   "metadata": {
    "execution": {
     "iopub.execute_input": "2023-12-31T14:39:49.386848Z",
     "iopub.status.busy": "2023-12-31T14:39:49.386480Z",
     "iopub.status.idle": "2023-12-31T14:39:50.785673Z",
     "shell.execute_reply": "2023-12-31T14:39:50.784531Z"
    },
    "papermill": {
     "duration": 1.415303,
     "end_time": "2023-12-31T14:39:50.788406",
     "exception": false,
     "start_time": "2023-12-31T14:39:49.373103",
     "status": "completed"
    },
    "tags": []
   },
   "outputs": [],
   "source": [
    "import seaborn as sns\n",
    "import matplotlib.pyplot as plt"
   ]
  },
  {
   "cell_type": "code",
   "execution_count": 5,
   "id": "9f817212",
   "metadata": {
    "execution": {
     "iopub.execute_input": "2023-12-31T14:39:50.816356Z",
     "iopub.status.busy": "2023-12-31T14:39:50.815906Z",
     "iopub.status.idle": "2023-12-31T14:39:50.820746Z",
     "shell.execute_reply": "2023-12-31T14:39:50.819653Z"
    },
    "papermill": {
     "duration": 0.022406,
     "end_time": "2023-12-31T14:39:50.823065",
     "exception": false,
     "start_time": "2023-12-31T14:39:50.800659",
     "status": "completed"
    },
    "tags": []
   },
   "outputs": [],
   "source": [
    "onehot = [\"purpose\",\"city\",\"property_type\"]"
   ]
  },
  {
   "cell_type": "code",
   "execution_count": 6,
   "id": "6c425bc7",
   "metadata": {
    "execution": {
     "iopub.execute_input": "2023-12-31T14:39:50.849367Z",
     "iopub.status.busy": "2023-12-31T14:39:50.848918Z",
     "iopub.status.idle": "2023-12-31T14:39:50.856169Z",
     "shell.execute_reply": "2023-12-31T14:39:50.855402Z"
    },
    "papermill": {
     "duration": 0.023315,
     "end_time": "2023-12-31T14:39:50.858411",
     "exception": false,
     "start_time": "2023-12-31T14:39:50.835096",
     "status": "completed"
    },
    "tags": []
   },
   "outputs": [],
   "source": [
    "df[\"sq_ft\"] = df[\"Area_in_Marla\"] * 272.251"
   ]
  },
  {
   "cell_type": "code",
   "execution_count": 7,
   "id": "b0b468d8",
   "metadata": {
    "execution": {
     "iopub.execute_input": "2023-12-31T14:39:50.883934Z",
     "iopub.status.busy": "2023-12-31T14:39:50.883303Z",
     "iopub.status.idle": "2023-12-31T14:39:50.899325Z",
     "shell.execute_reply": "2023-12-31T14:39:50.898293Z"
    },
    "papermill": {
     "duration": 0.031702,
     "end_time": "2023-12-31T14:39:50.901853",
     "exception": false,
     "start_time": "2023-12-31T14:39:50.870151",
     "status": "completed"
    },
    "tags": []
   },
   "outputs": [],
   "source": [
    "df.drop(\"Unnamed: 0\",axis = 1, inplace = True)"
   ]
  },
  {
   "cell_type": "code",
   "execution_count": 8,
   "id": "d0cdffdd",
   "metadata": {
    "execution": {
     "iopub.execute_input": "2023-12-31T14:39:50.927826Z",
     "iopub.status.busy": "2023-12-31T14:39:50.927044Z",
     "iopub.status.idle": "2023-12-31T14:39:50.948542Z",
     "shell.execute_reply": "2023-12-31T14:39:50.947587Z"
    },
    "papermill": {
     "duration": 0.036817,
     "end_time": "2023-12-31T14:39:50.950630",
     "exception": false,
     "start_time": "2023-12-31T14:39:50.913813",
     "status": "completed"
    },
    "tags": []
   },
   "outputs": [
    {
     "data": {
      "text/html": [
       "<div>\n",
       "<style scoped>\n",
       "    .dataframe tbody tr th:only-of-type {\n",
       "        vertical-align: middle;\n",
       "    }\n",
       "\n",
       "    .dataframe tbody tr th {\n",
       "        vertical-align: top;\n",
       "    }\n",
       "\n",
       "    .dataframe thead th {\n",
       "        text-align: right;\n",
       "    }\n",
       "</style>\n",
       "<table border=\"1\" class=\"dataframe\">\n",
       "  <thead>\n",
       "    <tr style=\"text-align: right;\">\n",
       "      <th></th>\n",
       "      <th>property_type</th>\n",
       "      <th>price</th>\n",
       "      <th>location</th>\n",
       "      <th>city</th>\n",
       "      <th>baths</th>\n",
       "      <th>purpose</th>\n",
       "      <th>bedrooms</th>\n",
       "      <th>Area_in_Marla</th>\n",
       "      <th>sq_ft</th>\n",
       "    </tr>\n",
       "  </thead>\n",
       "  <tbody>\n",
       "    <tr>\n",
       "      <th>0</th>\n",
       "      <td>Flat</td>\n",
       "      <td>10000000</td>\n",
       "      <td>G-10</td>\n",
       "      <td>Islamabad</td>\n",
       "      <td>2</td>\n",
       "      <td>For Sale</td>\n",
       "      <td>2</td>\n",
       "      <td>4.0</td>\n",
       "      <td>1089.0040</td>\n",
       "    </tr>\n",
       "    <tr>\n",
       "      <th>1</th>\n",
       "      <td>Flat</td>\n",
       "      <td>6900000</td>\n",
       "      <td>E-11</td>\n",
       "      <td>Islamabad</td>\n",
       "      <td>3</td>\n",
       "      <td>For Sale</td>\n",
       "      <td>3</td>\n",
       "      <td>5.6</td>\n",
       "      <td>1524.6056</td>\n",
       "    </tr>\n",
       "    <tr>\n",
       "      <th>2</th>\n",
       "      <td>House</td>\n",
       "      <td>16500000</td>\n",
       "      <td>G-15</td>\n",
       "      <td>Islamabad</td>\n",
       "      <td>6</td>\n",
       "      <td>For Sale</td>\n",
       "      <td>5</td>\n",
       "      <td>8.0</td>\n",
       "      <td>2178.0080</td>\n",
       "    </tr>\n",
       "    <tr>\n",
       "      <th>3</th>\n",
       "      <td>House</td>\n",
       "      <td>43500000</td>\n",
       "      <td>Bani Gala</td>\n",
       "      <td>Islamabad</td>\n",
       "      <td>4</td>\n",
       "      <td>For Sale</td>\n",
       "      <td>4</td>\n",
       "      <td>40.0</td>\n",
       "      <td>10890.0400</td>\n",
       "    </tr>\n",
       "    <tr>\n",
       "      <th>4</th>\n",
       "      <td>House</td>\n",
       "      <td>7000000</td>\n",
       "      <td>DHA Defence</td>\n",
       "      <td>Islamabad</td>\n",
       "      <td>3</td>\n",
       "      <td>For Sale</td>\n",
       "      <td>3</td>\n",
       "      <td>8.0</td>\n",
       "      <td>2178.0080</td>\n",
       "    </tr>\n",
       "    <tr>\n",
       "      <th>...</th>\n",
       "      <td>...</td>\n",
       "      <td>...</td>\n",
       "      <td>...</td>\n",
       "      <td>...</td>\n",
       "      <td>...</td>\n",
       "      <td>...</td>\n",
       "      <td>...</td>\n",
       "      <td>...</td>\n",
       "      <td>...</td>\n",
       "    </tr>\n",
       "    <tr>\n",
       "      <th>99494</th>\n",
       "      <td>Flat</td>\n",
       "      <td>7500000</td>\n",
       "      <td>Bahria Town Karachi</td>\n",
       "      <td>Karachi</td>\n",
       "      <td>3</td>\n",
       "      <td>For Sale</td>\n",
       "      <td>3</td>\n",
       "      <td>8.0</td>\n",
       "      <td>2178.0080</td>\n",
       "    </tr>\n",
       "    <tr>\n",
       "      <th>99495</th>\n",
       "      <td>House</td>\n",
       "      <td>8800000</td>\n",
       "      <td>Bahria Town Karachi</td>\n",
       "      <td>Karachi</td>\n",
       "      <td>4</td>\n",
       "      <td>For Sale</td>\n",
       "      <td>3</td>\n",
       "      <td>8.0</td>\n",
       "      <td>2178.0080</td>\n",
       "    </tr>\n",
       "    <tr>\n",
       "      <th>99496</th>\n",
       "      <td>House</td>\n",
       "      <td>14000000</td>\n",
       "      <td>Bahria Town Karachi</td>\n",
       "      <td>Karachi</td>\n",
       "      <td>3</td>\n",
       "      <td>For Sale</td>\n",
       "      <td>3</td>\n",
       "      <td>8.0</td>\n",
       "      <td>2178.0080</td>\n",
       "    </tr>\n",
       "    <tr>\n",
       "      <th>99497</th>\n",
       "      <td>House</td>\n",
       "      <td>14000000</td>\n",
       "      <td>Bahria Town Karachi</td>\n",
       "      <td>Karachi</td>\n",
       "      <td>4</td>\n",
       "      <td>For Sale</td>\n",
       "      <td>4</td>\n",
       "      <td>14.0</td>\n",
       "      <td>3811.5140</td>\n",
       "    </tr>\n",
       "    <tr>\n",
       "      <th>99498</th>\n",
       "      <td>House</td>\n",
       "      <td>9000000</td>\n",
       "      <td>Bahria Town Karachi</td>\n",
       "      <td>Karachi</td>\n",
       "      <td>3</td>\n",
       "      <td>For Sale</td>\n",
       "      <td>3</td>\n",
       "      <td>9.4</td>\n",
       "      <td>2559.1594</td>\n",
       "    </tr>\n",
       "  </tbody>\n",
       "</table>\n",
       "<p>99499 rows × 9 columns</p>\n",
       "</div>"
      ],
      "text/plain": [
       "      property_type     price             location       city  baths  \\\n",
       "0              Flat  10000000                 G-10  Islamabad      2   \n",
       "1              Flat   6900000                 E-11  Islamabad      3   \n",
       "2             House  16500000                 G-15  Islamabad      6   \n",
       "3             House  43500000            Bani Gala  Islamabad      4   \n",
       "4             House   7000000          DHA Defence  Islamabad      3   \n",
       "...             ...       ...                  ...        ...    ...   \n",
       "99494          Flat   7500000  Bahria Town Karachi    Karachi      3   \n",
       "99495         House   8800000  Bahria Town Karachi    Karachi      4   \n",
       "99496         House  14000000  Bahria Town Karachi    Karachi      3   \n",
       "99497         House  14000000  Bahria Town Karachi    Karachi      4   \n",
       "99498         House   9000000  Bahria Town Karachi    Karachi      3   \n",
       "\n",
       "        purpose  bedrooms  Area_in_Marla       sq_ft  \n",
       "0      For Sale         2            4.0   1089.0040  \n",
       "1      For Sale         3            5.6   1524.6056  \n",
       "2      For Sale         5            8.0   2178.0080  \n",
       "3      For Sale         4           40.0  10890.0400  \n",
       "4      For Sale         3            8.0   2178.0080  \n",
       "...         ...       ...            ...         ...  \n",
       "99494  For Sale         3            8.0   2178.0080  \n",
       "99495  For Sale         3            8.0   2178.0080  \n",
       "99496  For Sale         3            8.0   2178.0080  \n",
       "99497  For Sale         4           14.0   3811.5140  \n",
       "99498  For Sale         3            9.4   2559.1594  \n",
       "\n",
       "[99499 rows x 9 columns]"
      ]
     },
     "execution_count": 8,
     "metadata": {},
     "output_type": "execute_result"
    }
   ],
   "source": [
    "df"
   ]
  },
  {
   "cell_type": "code",
   "execution_count": 9,
   "id": "7415b5ad",
   "metadata": {
    "execution": {
     "iopub.execute_input": "2023-12-31T14:39:50.978124Z",
     "iopub.status.busy": "2023-12-31T14:39:50.976920Z",
     "iopub.status.idle": "2023-12-31T14:39:50.983352Z",
     "shell.execute_reply": "2023-12-31T14:39:50.982531Z"
    },
    "papermill": {
     "duration": 0.022324,
     "end_time": "2023-12-31T14:39:50.985569",
     "exception": false,
     "start_time": "2023-12-31T14:39:50.963245",
     "status": "completed"
    },
    "tags": []
   },
   "outputs": [],
   "source": [
    "mask = (\n",
    "    (df['price'] >= 10000000) &\n",
    "    (df['sq_ft'] <= 1500)\n",
    ")"
   ]
  },
  {
   "cell_type": "code",
   "execution_count": 10,
   "id": "1ba56ce7",
   "metadata": {
    "execution": {
     "iopub.execute_input": "2023-12-31T14:39:51.012811Z",
     "iopub.status.busy": "2023-12-31T14:39:51.011787Z",
     "iopub.status.idle": "2023-12-31T14:39:51.028098Z",
     "shell.execute_reply": "2023-12-31T14:39:51.026946Z"
    },
    "papermill": {
     "duration": 0.033016,
     "end_time": "2023-12-31T14:39:51.031062",
     "exception": false,
     "start_time": "2023-12-31T14:39:50.998046",
     "status": "completed"
    },
    "tags": []
   },
   "outputs": [],
   "source": [
    "df2 = df[~mask]"
   ]
  },
  {
   "cell_type": "code",
   "execution_count": 11,
   "id": "2624e90a",
   "metadata": {
    "execution": {
     "iopub.execute_input": "2023-12-31T14:39:51.057622Z",
     "iopub.status.busy": "2023-12-31T14:39:51.057194Z",
     "iopub.status.idle": "2023-12-31T14:39:51.080672Z",
     "shell.execute_reply": "2023-12-31T14:39:51.079440Z"
    },
    "papermill": {
     "duration": 0.039715,
     "end_time": "2023-12-31T14:39:51.083262",
     "exception": false,
     "start_time": "2023-12-31T14:39:51.043547",
     "status": "completed"
    },
    "tags": []
   },
   "outputs": [
    {
     "data": {
      "text/html": [
       "<div>\n",
       "<style scoped>\n",
       "    .dataframe tbody tr th:only-of-type {\n",
       "        vertical-align: middle;\n",
       "    }\n",
       "\n",
       "    .dataframe tbody tr th {\n",
       "        vertical-align: top;\n",
       "    }\n",
       "\n",
       "    .dataframe thead th {\n",
       "        text-align: right;\n",
       "    }\n",
       "</style>\n",
       "<table border=\"1\" class=\"dataframe\">\n",
       "  <thead>\n",
       "    <tr style=\"text-align: right;\">\n",
       "      <th></th>\n",
       "      <th>property_type</th>\n",
       "      <th>price</th>\n",
       "      <th>location</th>\n",
       "      <th>city</th>\n",
       "      <th>baths</th>\n",
       "      <th>purpose</th>\n",
       "      <th>bedrooms</th>\n",
       "      <th>Area_in_Marla</th>\n",
       "      <th>sq_ft</th>\n",
       "    </tr>\n",
       "  </thead>\n",
       "  <tbody>\n",
       "    <tr>\n",
       "      <th>1</th>\n",
       "      <td>Flat</td>\n",
       "      <td>6900000</td>\n",
       "      <td>E-11</td>\n",
       "      <td>Islamabad</td>\n",
       "      <td>3</td>\n",
       "      <td>For Sale</td>\n",
       "      <td>3</td>\n",
       "      <td>5.6</td>\n",
       "      <td>1524.6056</td>\n",
       "    </tr>\n",
       "    <tr>\n",
       "      <th>2</th>\n",
       "      <td>House</td>\n",
       "      <td>16500000</td>\n",
       "      <td>G-15</td>\n",
       "      <td>Islamabad</td>\n",
       "      <td>6</td>\n",
       "      <td>For Sale</td>\n",
       "      <td>5</td>\n",
       "      <td>8.0</td>\n",
       "      <td>2178.0080</td>\n",
       "    </tr>\n",
       "    <tr>\n",
       "      <th>3</th>\n",
       "      <td>House</td>\n",
       "      <td>43500000</td>\n",
       "      <td>Bani Gala</td>\n",
       "      <td>Islamabad</td>\n",
       "      <td>4</td>\n",
       "      <td>For Sale</td>\n",
       "      <td>4</td>\n",
       "      <td>40.0</td>\n",
       "      <td>10890.0400</td>\n",
       "    </tr>\n",
       "    <tr>\n",
       "      <th>4</th>\n",
       "      <td>House</td>\n",
       "      <td>7000000</td>\n",
       "      <td>DHA Defence</td>\n",
       "      <td>Islamabad</td>\n",
       "      <td>3</td>\n",
       "      <td>For Sale</td>\n",
       "      <td>3</td>\n",
       "      <td>8.0</td>\n",
       "      <td>2178.0080</td>\n",
       "    </tr>\n",
       "    <tr>\n",
       "      <th>5</th>\n",
       "      <td>Flat</td>\n",
       "      <td>7800000</td>\n",
       "      <td>E-11</td>\n",
       "      <td>Islamabad</td>\n",
       "      <td>2</td>\n",
       "      <td>For Sale</td>\n",
       "      <td>2</td>\n",
       "      <td>6.2</td>\n",
       "      <td>1687.9562</td>\n",
       "    </tr>\n",
       "    <tr>\n",
       "      <th>...</th>\n",
       "      <td>...</td>\n",
       "      <td>...</td>\n",
       "      <td>...</td>\n",
       "      <td>...</td>\n",
       "      <td>...</td>\n",
       "      <td>...</td>\n",
       "      <td>...</td>\n",
       "      <td>...</td>\n",
       "      <td>...</td>\n",
       "    </tr>\n",
       "    <tr>\n",
       "      <th>99494</th>\n",
       "      <td>Flat</td>\n",
       "      <td>7500000</td>\n",
       "      <td>Bahria Town Karachi</td>\n",
       "      <td>Karachi</td>\n",
       "      <td>3</td>\n",
       "      <td>For Sale</td>\n",
       "      <td>3</td>\n",
       "      <td>8.0</td>\n",
       "      <td>2178.0080</td>\n",
       "    </tr>\n",
       "    <tr>\n",
       "      <th>99495</th>\n",
       "      <td>House</td>\n",
       "      <td>8800000</td>\n",
       "      <td>Bahria Town Karachi</td>\n",
       "      <td>Karachi</td>\n",
       "      <td>4</td>\n",
       "      <td>For Sale</td>\n",
       "      <td>3</td>\n",
       "      <td>8.0</td>\n",
       "      <td>2178.0080</td>\n",
       "    </tr>\n",
       "    <tr>\n",
       "      <th>99496</th>\n",
       "      <td>House</td>\n",
       "      <td>14000000</td>\n",
       "      <td>Bahria Town Karachi</td>\n",
       "      <td>Karachi</td>\n",
       "      <td>3</td>\n",
       "      <td>For Sale</td>\n",
       "      <td>3</td>\n",
       "      <td>8.0</td>\n",
       "      <td>2178.0080</td>\n",
       "    </tr>\n",
       "    <tr>\n",
       "      <th>99497</th>\n",
       "      <td>House</td>\n",
       "      <td>14000000</td>\n",
       "      <td>Bahria Town Karachi</td>\n",
       "      <td>Karachi</td>\n",
       "      <td>4</td>\n",
       "      <td>For Sale</td>\n",
       "      <td>4</td>\n",
       "      <td>14.0</td>\n",
       "      <td>3811.5140</td>\n",
       "    </tr>\n",
       "    <tr>\n",
       "      <th>99498</th>\n",
       "      <td>House</td>\n",
       "      <td>9000000</td>\n",
       "      <td>Bahria Town Karachi</td>\n",
       "      <td>Karachi</td>\n",
       "      <td>3</td>\n",
       "      <td>For Sale</td>\n",
       "      <td>3</td>\n",
       "      <td>9.4</td>\n",
       "      <td>2559.1594</td>\n",
       "    </tr>\n",
       "  </tbody>\n",
       "</table>\n",
       "<p>89355 rows × 9 columns</p>\n",
       "</div>"
      ],
      "text/plain": [
       "      property_type     price             location       city  baths  \\\n",
       "1              Flat   6900000                 E-11  Islamabad      3   \n",
       "2             House  16500000                 G-15  Islamabad      6   \n",
       "3             House  43500000            Bani Gala  Islamabad      4   \n",
       "4             House   7000000          DHA Defence  Islamabad      3   \n",
       "5              Flat   7800000                 E-11  Islamabad      2   \n",
       "...             ...       ...                  ...        ...    ...   \n",
       "99494          Flat   7500000  Bahria Town Karachi    Karachi      3   \n",
       "99495         House   8800000  Bahria Town Karachi    Karachi      4   \n",
       "99496         House  14000000  Bahria Town Karachi    Karachi      3   \n",
       "99497         House  14000000  Bahria Town Karachi    Karachi      4   \n",
       "99498         House   9000000  Bahria Town Karachi    Karachi      3   \n",
       "\n",
       "        purpose  bedrooms  Area_in_Marla       sq_ft  \n",
       "1      For Sale         3            5.6   1524.6056  \n",
       "2      For Sale         5            8.0   2178.0080  \n",
       "3      For Sale         4           40.0  10890.0400  \n",
       "4      For Sale         3            8.0   2178.0080  \n",
       "5      For Sale         2            6.2   1687.9562  \n",
       "...         ...       ...            ...         ...  \n",
       "99494  For Sale         3            8.0   2178.0080  \n",
       "99495  For Sale         3            8.0   2178.0080  \n",
       "99496  For Sale         3            8.0   2178.0080  \n",
       "99497  For Sale         4           14.0   3811.5140  \n",
       "99498  For Sale         3            9.4   2559.1594  \n",
       "\n",
       "[89355 rows x 9 columns]"
      ]
     },
     "execution_count": 11,
     "metadata": {},
     "output_type": "execute_result"
    }
   ],
   "source": [
    "df2"
   ]
  },
  {
   "cell_type": "code",
   "execution_count": 12,
   "id": "bf94c933",
   "metadata": {
    "execution": {
     "iopub.execute_input": "2023-12-31T14:39:51.111002Z",
     "iopub.status.busy": "2023-12-31T14:39:51.110369Z",
     "iopub.status.idle": "2023-12-31T14:39:51.116381Z",
     "shell.execute_reply": "2023-12-31T14:39:51.115296Z"
    },
    "papermill": {
     "duration": 0.022592,
     "end_time": "2023-12-31T14:39:51.118838",
     "exception": false,
     "start_time": "2023-12-31T14:39:51.096246",
     "status": "completed"
    },
    "tags": []
   },
   "outputs": [],
   "source": [
    "mask1 = (\n",
    "    (df2['price'] < 1000000) &\n",
    "    (df2['sq_ft'] >= 3000)\n",
    ")"
   ]
  },
  {
   "cell_type": "code",
   "execution_count": 13,
   "id": "e1b601c6",
   "metadata": {
    "execution": {
     "iopub.execute_input": "2023-12-31T14:39:51.146891Z",
     "iopub.status.busy": "2023-12-31T14:39:51.145948Z",
     "iopub.status.idle": "2023-12-31T14:39:51.160686Z",
     "shell.execute_reply": "2023-12-31T14:39:51.159600Z"
    },
    "papermill": {
     "duration": 0.031516,
     "end_time": "2023-12-31T14:39:51.163226",
     "exception": false,
     "start_time": "2023-12-31T14:39:51.131710",
     "status": "completed"
    },
    "tags": []
   },
   "outputs": [],
   "source": [
    "df3 = df2[~mask1]"
   ]
  },
  {
   "cell_type": "code",
   "execution_count": 14,
   "id": "61560245",
   "metadata": {
    "execution": {
     "iopub.execute_input": "2023-12-31T14:39:51.191290Z",
     "iopub.status.busy": "2023-12-31T14:39:51.190576Z",
     "iopub.status.idle": "2023-12-31T14:39:51.290391Z",
     "shell.execute_reply": "2023-12-31T14:39:51.289289Z"
    },
    "papermill": {
     "duration": 0.116357,
     "end_time": "2023-12-31T14:39:51.292970",
     "exception": false,
     "start_time": "2023-12-31T14:39:51.176613",
     "status": "completed"
    },
    "tags": []
   },
   "outputs": [
    {
     "data": {
      "text/html": [
       "<div>\n",
       "<style scoped>\n",
       "    .dataframe tbody tr th:only-of-type {\n",
       "        vertical-align: middle;\n",
       "    }\n",
       "\n",
       "    .dataframe tbody tr th {\n",
       "        vertical-align: top;\n",
       "    }\n",
       "\n",
       "    .dataframe thead th {\n",
       "        text-align: right;\n",
       "    }\n",
       "</style>\n",
       "<table border=\"1\" class=\"dataframe\">\n",
       "  <thead>\n",
       "    <tr style=\"text-align: right;\">\n",
       "      <th></th>\n",
       "      <th>property_type</th>\n",
       "      <th>price</th>\n",
       "      <th>location</th>\n",
       "      <th>city</th>\n",
       "      <th>baths</th>\n",
       "      <th>purpose</th>\n",
       "      <th>bedrooms</th>\n",
       "      <th>Area_in_Marla</th>\n",
       "      <th>sq_ft</th>\n",
       "    </tr>\n",
       "  </thead>\n",
       "  <tbody>\n",
       "    <tr>\n",
       "      <th>1</th>\n",
       "      <td>Flat</td>\n",
       "      <td>6900000</td>\n",
       "      <td>E-11</td>\n",
       "      <td>Islamabad</td>\n",
       "      <td>3</td>\n",
       "      <td>For Sale</td>\n",
       "      <td>3</td>\n",
       "      <td>5.6</td>\n",
       "      <td>1524.6056</td>\n",
       "    </tr>\n",
       "    <tr>\n",
       "      <th>2</th>\n",
       "      <td>House</td>\n",
       "      <td>16500000</td>\n",
       "      <td>G-15</td>\n",
       "      <td>Islamabad</td>\n",
       "      <td>6</td>\n",
       "      <td>For Sale</td>\n",
       "      <td>5</td>\n",
       "      <td>8.0</td>\n",
       "      <td>2178.0080</td>\n",
       "    </tr>\n",
       "    <tr>\n",
       "      <th>3</th>\n",
       "      <td>House</td>\n",
       "      <td>43500000</td>\n",
       "      <td>Bani Gala</td>\n",
       "      <td>Islamabad</td>\n",
       "      <td>4</td>\n",
       "      <td>For Sale</td>\n",
       "      <td>4</td>\n",
       "      <td>40.0</td>\n",
       "      <td>10890.0400</td>\n",
       "    </tr>\n",
       "    <tr>\n",
       "      <th>4</th>\n",
       "      <td>House</td>\n",
       "      <td>7000000</td>\n",
       "      <td>DHA Defence</td>\n",
       "      <td>Islamabad</td>\n",
       "      <td>3</td>\n",
       "      <td>For Sale</td>\n",
       "      <td>3</td>\n",
       "      <td>8.0</td>\n",
       "      <td>2178.0080</td>\n",
       "    </tr>\n",
       "    <tr>\n",
       "      <th>5</th>\n",
       "      <td>Flat</td>\n",
       "      <td>7800000</td>\n",
       "      <td>E-11</td>\n",
       "      <td>Islamabad</td>\n",
       "      <td>2</td>\n",
       "      <td>For Sale</td>\n",
       "      <td>2</td>\n",
       "      <td>6.2</td>\n",
       "      <td>1687.9562</td>\n",
       "    </tr>\n",
       "    <tr>\n",
       "      <th>...</th>\n",
       "      <td>...</td>\n",
       "      <td>...</td>\n",
       "      <td>...</td>\n",
       "      <td>...</td>\n",
       "      <td>...</td>\n",
       "      <td>...</td>\n",
       "      <td>...</td>\n",
       "      <td>...</td>\n",
       "      <td>...</td>\n",
       "    </tr>\n",
       "    <tr>\n",
       "      <th>99494</th>\n",
       "      <td>Flat</td>\n",
       "      <td>7500000</td>\n",
       "      <td>Bahria Town Karachi</td>\n",
       "      <td>Karachi</td>\n",
       "      <td>3</td>\n",
       "      <td>For Sale</td>\n",
       "      <td>3</td>\n",
       "      <td>8.0</td>\n",
       "      <td>2178.0080</td>\n",
       "    </tr>\n",
       "    <tr>\n",
       "      <th>99495</th>\n",
       "      <td>House</td>\n",
       "      <td>8800000</td>\n",
       "      <td>Bahria Town Karachi</td>\n",
       "      <td>Karachi</td>\n",
       "      <td>4</td>\n",
       "      <td>For Sale</td>\n",
       "      <td>3</td>\n",
       "      <td>8.0</td>\n",
       "      <td>2178.0080</td>\n",
       "    </tr>\n",
       "    <tr>\n",
       "      <th>99496</th>\n",
       "      <td>House</td>\n",
       "      <td>14000000</td>\n",
       "      <td>Bahria Town Karachi</td>\n",
       "      <td>Karachi</td>\n",
       "      <td>3</td>\n",
       "      <td>For Sale</td>\n",
       "      <td>3</td>\n",
       "      <td>8.0</td>\n",
       "      <td>2178.0080</td>\n",
       "    </tr>\n",
       "    <tr>\n",
       "      <th>99497</th>\n",
       "      <td>House</td>\n",
       "      <td>14000000</td>\n",
       "      <td>Bahria Town Karachi</td>\n",
       "      <td>Karachi</td>\n",
       "      <td>4</td>\n",
       "      <td>For Sale</td>\n",
       "      <td>4</td>\n",
       "      <td>14.0</td>\n",
       "      <td>3811.5140</td>\n",
       "    </tr>\n",
       "    <tr>\n",
       "      <th>99498</th>\n",
       "      <td>House</td>\n",
       "      <td>9000000</td>\n",
       "      <td>Bahria Town Karachi</td>\n",
       "      <td>Karachi</td>\n",
       "      <td>3</td>\n",
       "      <td>For Sale</td>\n",
       "      <td>3</td>\n",
       "      <td>9.4</td>\n",
       "      <td>2559.1594</td>\n",
       "    </tr>\n",
       "  </tbody>\n",
       "</table>\n",
       "<p>78295 rows × 9 columns</p>\n",
       "</div>"
      ],
      "text/plain": [
       "      property_type     price             location       city  baths  \\\n",
       "1              Flat   6900000                 E-11  Islamabad      3   \n",
       "2             House  16500000                 G-15  Islamabad      6   \n",
       "3             House  43500000            Bani Gala  Islamabad      4   \n",
       "4             House   7000000          DHA Defence  Islamabad      3   \n",
       "5              Flat   7800000                 E-11  Islamabad      2   \n",
       "...             ...       ...                  ...        ...    ...   \n",
       "99494          Flat   7500000  Bahria Town Karachi    Karachi      3   \n",
       "99495         House   8800000  Bahria Town Karachi    Karachi      4   \n",
       "99496         House  14000000  Bahria Town Karachi    Karachi      3   \n",
       "99497         House  14000000  Bahria Town Karachi    Karachi      4   \n",
       "99498         House   9000000  Bahria Town Karachi    Karachi      3   \n",
       "\n",
       "        purpose  bedrooms  Area_in_Marla       sq_ft  \n",
       "1      For Sale         3            5.6   1524.6056  \n",
       "2      For Sale         5            8.0   2178.0080  \n",
       "3      For Sale         4           40.0  10890.0400  \n",
       "4      For Sale         3            8.0   2178.0080  \n",
       "5      For Sale         2            6.2   1687.9562  \n",
       "...         ...       ...            ...         ...  \n",
       "99494  For Sale         3            8.0   2178.0080  \n",
       "99495  For Sale         3            8.0   2178.0080  \n",
       "99496  For Sale         3            8.0   2178.0080  \n",
       "99497  For Sale         4           14.0   3811.5140  \n",
       "99498  For Sale         3            9.4   2559.1594  \n",
       "\n",
       "[78295 rows x 9 columns]"
      ]
     },
     "execution_count": 14,
     "metadata": {},
     "output_type": "execute_result"
    }
   ],
   "source": [
    "df3"
   ]
  },
  {
   "cell_type": "code",
   "execution_count": 15,
   "id": "7ea460ff",
   "metadata": {
    "execution": {
     "iopub.execute_input": "2023-12-31T14:39:51.320663Z",
     "iopub.status.busy": "2023-12-31T14:39:51.320291Z",
     "iopub.status.idle": "2023-12-31T14:39:51.327939Z",
     "shell.execute_reply": "2023-12-31T14:39:51.327137Z"
    },
    "papermill": {
     "duration": 0.024019,
     "end_time": "2023-12-31T14:39:51.330156",
     "exception": false,
     "start_time": "2023-12-31T14:39:51.306137",
     "status": "completed"
    },
    "tags": []
   },
   "outputs": [],
   "source": [
    "mask2 = ((df3[\"sq_ft\"] <= 1700 )& (df3[\"bedrooms\"] > 3) & (df3[\"baths\"] > 3 ))"
   ]
  },
  {
   "cell_type": "code",
   "execution_count": 16,
   "id": "d1fac67b",
   "metadata": {
    "execution": {
     "iopub.execute_input": "2023-12-31T14:39:51.358195Z",
     "iopub.status.busy": "2023-12-31T14:39:51.357258Z",
     "iopub.status.idle": "2023-12-31T14:39:51.373233Z",
     "shell.execute_reply": "2023-12-31T14:39:51.372242Z"
    },
    "papermill": {
     "duration": 0.032684,
     "end_time": "2023-12-31T14:39:51.375848",
     "exception": false,
     "start_time": "2023-12-31T14:39:51.343164",
     "status": "completed"
    },
    "tags": []
   },
   "outputs": [],
   "source": [
    "df4 = df3[~mask2]"
   ]
  },
  {
   "cell_type": "code",
   "execution_count": 17,
   "id": "6fd740c8",
   "metadata": {
    "execution": {
     "iopub.execute_input": "2023-12-31T14:39:51.403598Z",
     "iopub.status.busy": "2023-12-31T14:39:51.403157Z",
     "iopub.status.idle": "2023-12-31T14:39:51.424982Z",
     "shell.execute_reply": "2023-12-31T14:39:51.423773Z"
    },
    "papermill": {
     "duration": 0.038573,
     "end_time": "2023-12-31T14:39:51.427437",
     "exception": false,
     "start_time": "2023-12-31T14:39:51.388864",
     "status": "completed"
    },
    "tags": []
   },
   "outputs": [
    {
     "data": {
      "text/html": [
       "<div>\n",
       "<style scoped>\n",
       "    .dataframe tbody tr th:only-of-type {\n",
       "        vertical-align: middle;\n",
       "    }\n",
       "\n",
       "    .dataframe tbody tr th {\n",
       "        vertical-align: top;\n",
       "    }\n",
       "\n",
       "    .dataframe thead th {\n",
       "        text-align: right;\n",
       "    }\n",
       "</style>\n",
       "<table border=\"1\" class=\"dataframe\">\n",
       "  <thead>\n",
       "    <tr style=\"text-align: right;\">\n",
       "      <th></th>\n",
       "      <th>property_type</th>\n",
       "      <th>price</th>\n",
       "      <th>location</th>\n",
       "      <th>city</th>\n",
       "      <th>baths</th>\n",
       "      <th>purpose</th>\n",
       "      <th>bedrooms</th>\n",
       "      <th>Area_in_Marla</th>\n",
       "      <th>sq_ft</th>\n",
       "    </tr>\n",
       "  </thead>\n",
       "  <tbody>\n",
       "    <tr>\n",
       "      <th>1</th>\n",
       "      <td>Flat</td>\n",
       "      <td>6900000</td>\n",
       "      <td>E-11</td>\n",
       "      <td>Islamabad</td>\n",
       "      <td>3</td>\n",
       "      <td>For Sale</td>\n",
       "      <td>3</td>\n",
       "      <td>5.6</td>\n",
       "      <td>1524.6056</td>\n",
       "    </tr>\n",
       "    <tr>\n",
       "      <th>2</th>\n",
       "      <td>House</td>\n",
       "      <td>16500000</td>\n",
       "      <td>G-15</td>\n",
       "      <td>Islamabad</td>\n",
       "      <td>6</td>\n",
       "      <td>For Sale</td>\n",
       "      <td>5</td>\n",
       "      <td>8.0</td>\n",
       "      <td>2178.0080</td>\n",
       "    </tr>\n",
       "    <tr>\n",
       "      <th>3</th>\n",
       "      <td>House</td>\n",
       "      <td>43500000</td>\n",
       "      <td>Bani Gala</td>\n",
       "      <td>Islamabad</td>\n",
       "      <td>4</td>\n",
       "      <td>For Sale</td>\n",
       "      <td>4</td>\n",
       "      <td>40.0</td>\n",
       "      <td>10890.0400</td>\n",
       "    </tr>\n",
       "    <tr>\n",
       "      <th>4</th>\n",
       "      <td>House</td>\n",
       "      <td>7000000</td>\n",
       "      <td>DHA Defence</td>\n",
       "      <td>Islamabad</td>\n",
       "      <td>3</td>\n",
       "      <td>For Sale</td>\n",
       "      <td>3</td>\n",
       "      <td>8.0</td>\n",
       "      <td>2178.0080</td>\n",
       "    </tr>\n",
       "    <tr>\n",
       "      <th>5</th>\n",
       "      <td>Flat</td>\n",
       "      <td>7800000</td>\n",
       "      <td>E-11</td>\n",
       "      <td>Islamabad</td>\n",
       "      <td>2</td>\n",
       "      <td>For Sale</td>\n",
       "      <td>2</td>\n",
       "      <td>6.2</td>\n",
       "      <td>1687.9562</td>\n",
       "    </tr>\n",
       "    <tr>\n",
       "      <th>...</th>\n",
       "      <td>...</td>\n",
       "      <td>...</td>\n",
       "      <td>...</td>\n",
       "      <td>...</td>\n",
       "      <td>...</td>\n",
       "      <td>...</td>\n",
       "      <td>...</td>\n",
       "      <td>...</td>\n",
       "      <td>...</td>\n",
       "    </tr>\n",
       "    <tr>\n",
       "      <th>99494</th>\n",
       "      <td>Flat</td>\n",
       "      <td>7500000</td>\n",
       "      <td>Bahria Town Karachi</td>\n",
       "      <td>Karachi</td>\n",
       "      <td>3</td>\n",
       "      <td>For Sale</td>\n",
       "      <td>3</td>\n",
       "      <td>8.0</td>\n",
       "      <td>2178.0080</td>\n",
       "    </tr>\n",
       "    <tr>\n",
       "      <th>99495</th>\n",
       "      <td>House</td>\n",
       "      <td>8800000</td>\n",
       "      <td>Bahria Town Karachi</td>\n",
       "      <td>Karachi</td>\n",
       "      <td>4</td>\n",
       "      <td>For Sale</td>\n",
       "      <td>3</td>\n",
       "      <td>8.0</td>\n",
       "      <td>2178.0080</td>\n",
       "    </tr>\n",
       "    <tr>\n",
       "      <th>99496</th>\n",
       "      <td>House</td>\n",
       "      <td>14000000</td>\n",
       "      <td>Bahria Town Karachi</td>\n",
       "      <td>Karachi</td>\n",
       "      <td>3</td>\n",
       "      <td>For Sale</td>\n",
       "      <td>3</td>\n",
       "      <td>8.0</td>\n",
       "      <td>2178.0080</td>\n",
       "    </tr>\n",
       "    <tr>\n",
       "      <th>99497</th>\n",
       "      <td>House</td>\n",
       "      <td>14000000</td>\n",
       "      <td>Bahria Town Karachi</td>\n",
       "      <td>Karachi</td>\n",
       "      <td>4</td>\n",
       "      <td>For Sale</td>\n",
       "      <td>4</td>\n",
       "      <td>14.0</td>\n",
       "      <td>3811.5140</td>\n",
       "    </tr>\n",
       "    <tr>\n",
       "      <th>99498</th>\n",
       "      <td>House</td>\n",
       "      <td>9000000</td>\n",
       "      <td>Bahria Town Karachi</td>\n",
       "      <td>Karachi</td>\n",
       "      <td>3</td>\n",
       "      <td>For Sale</td>\n",
       "      <td>3</td>\n",
       "      <td>9.4</td>\n",
       "      <td>2559.1594</td>\n",
       "    </tr>\n",
       "  </tbody>\n",
       "</table>\n",
       "<p>74010 rows × 9 columns</p>\n",
       "</div>"
      ],
      "text/plain": [
       "      property_type     price             location       city  baths  \\\n",
       "1              Flat   6900000                 E-11  Islamabad      3   \n",
       "2             House  16500000                 G-15  Islamabad      6   \n",
       "3             House  43500000            Bani Gala  Islamabad      4   \n",
       "4             House   7000000          DHA Defence  Islamabad      3   \n",
       "5              Flat   7800000                 E-11  Islamabad      2   \n",
       "...             ...       ...                  ...        ...    ...   \n",
       "99494          Flat   7500000  Bahria Town Karachi    Karachi      3   \n",
       "99495         House   8800000  Bahria Town Karachi    Karachi      4   \n",
       "99496         House  14000000  Bahria Town Karachi    Karachi      3   \n",
       "99497         House  14000000  Bahria Town Karachi    Karachi      4   \n",
       "99498         House   9000000  Bahria Town Karachi    Karachi      3   \n",
       "\n",
       "        purpose  bedrooms  Area_in_Marla       sq_ft  \n",
       "1      For Sale         3            5.6   1524.6056  \n",
       "2      For Sale         5            8.0   2178.0080  \n",
       "3      For Sale         4           40.0  10890.0400  \n",
       "4      For Sale         3            8.0   2178.0080  \n",
       "5      For Sale         2            6.2   1687.9562  \n",
       "...         ...       ...            ...         ...  \n",
       "99494  For Sale         3            8.0   2178.0080  \n",
       "99495  For Sale         3            8.0   2178.0080  \n",
       "99496  For Sale         3            8.0   2178.0080  \n",
       "99497  For Sale         4           14.0   3811.5140  \n",
       "99498  For Sale         3            9.4   2559.1594  \n",
       "\n",
       "[74010 rows x 9 columns]"
      ]
     },
     "execution_count": 17,
     "metadata": {},
     "output_type": "execute_result"
    }
   ],
   "source": [
    "df4"
   ]
  },
  {
   "cell_type": "code",
   "execution_count": 18,
   "id": "51c327c4",
   "metadata": {
    "execution": {
     "iopub.execute_input": "2023-12-31T14:39:51.456614Z",
     "iopub.status.busy": "2023-12-31T14:39:51.456238Z",
     "iopub.status.idle": "2023-12-31T14:39:51.460793Z",
     "shell.execute_reply": "2023-12-31T14:39:51.459700Z"
    },
    "papermill": {
     "duration": 0.02196,
     "end_time": "2023-12-31T14:39:51.463054",
     "exception": false,
     "start_time": "2023-12-31T14:39:51.441094",
     "status": "completed"
    },
    "tags": []
   },
   "outputs": [],
   "source": [
    "# mask3 = ((df4[\"sq_ft\"] >= 2000 ) & (df4[\"price\"] <= 3000000))"
   ]
  },
  {
   "cell_type": "code",
   "execution_count": 19,
   "id": "43d7c343",
   "metadata": {
    "execution": {
     "iopub.execute_input": "2023-12-31T14:39:51.491992Z",
     "iopub.status.busy": "2023-12-31T14:39:51.491602Z",
     "iopub.status.idle": "2023-12-31T14:39:51.496529Z",
     "shell.execute_reply": "2023-12-31T14:39:51.495400Z"
    },
    "papermill": {
     "duration": 0.022384,
     "end_time": "2023-12-31T14:39:51.498972",
     "exception": false,
     "start_time": "2023-12-31T14:39:51.476588",
     "status": "completed"
    },
    "tags": []
   },
   "outputs": [],
   "source": [
    "# df5 = df4[~mask3]"
   ]
  },
  {
   "cell_type": "code",
   "execution_count": 20,
   "id": "b61ab29d",
   "metadata": {
    "execution": {
     "iopub.execute_input": "2023-12-31T14:39:51.528276Z",
     "iopub.status.busy": "2023-12-31T14:39:51.527307Z",
     "iopub.status.idle": "2023-12-31T14:39:51.533989Z",
     "shell.execute_reply": "2023-12-31T14:39:51.533163Z"
    },
    "papermill": {
     "duration": 0.023564,
     "end_time": "2023-12-31T14:39:51.536078",
     "exception": false,
     "start_time": "2023-12-31T14:39:51.512514",
     "status": "completed"
    },
    "tags": []
   },
   "outputs": [],
   "source": [
    "mask3 = ((df4[\"sq_ft\"] >= 2200) & (df4[\"baths\"] > 4) & (df4[\"bedrooms\"] > 4))"
   ]
  },
  {
   "cell_type": "code",
   "execution_count": 21,
   "id": "0f84d528",
   "metadata": {
    "execution": {
     "iopub.execute_input": "2023-12-31T14:39:51.565907Z",
     "iopub.status.busy": "2023-12-31T14:39:51.565162Z",
     "iopub.status.idle": "2023-12-31T14:39:51.579178Z",
     "shell.execute_reply": "2023-12-31T14:39:51.577893Z"
    },
    "papermill": {
     "duration": 0.032352,
     "end_time": "2023-12-31T14:39:51.581876",
     "exception": false,
     "start_time": "2023-12-31T14:39:51.549524",
     "status": "completed"
    },
    "tags": []
   },
   "outputs": [],
   "source": [
    "df6 = df4[~mask3]"
   ]
  },
  {
   "cell_type": "code",
   "execution_count": 22,
   "id": "26faf4ed",
   "metadata": {
    "execution": {
     "iopub.execute_input": "2023-12-31T14:39:51.610436Z",
     "iopub.status.busy": "2023-12-31T14:39:51.609979Z",
     "iopub.status.idle": "2023-12-31T14:39:51.632484Z",
     "shell.execute_reply": "2023-12-31T14:39:51.631404Z"
    },
    "papermill": {
     "duration": 0.039455,
     "end_time": "2023-12-31T14:39:51.634822",
     "exception": false,
     "start_time": "2023-12-31T14:39:51.595367",
     "status": "completed"
    },
    "tags": []
   },
   "outputs": [
    {
     "data": {
      "text/html": [
       "<div>\n",
       "<style scoped>\n",
       "    .dataframe tbody tr th:only-of-type {\n",
       "        vertical-align: middle;\n",
       "    }\n",
       "\n",
       "    .dataframe tbody tr th {\n",
       "        vertical-align: top;\n",
       "    }\n",
       "\n",
       "    .dataframe thead th {\n",
       "        text-align: right;\n",
       "    }\n",
       "</style>\n",
       "<table border=\"1\" class=\"dataframe\">\n",
       "  <thead>\n",
       "    <tr style=\"text-align: right;\">\n",
       "      <th></th>\n",
       "      <th>property_type</th>\n",
       "      <th>price</th>\n",
       "      <th>location</th>\n",
       "      <th>city</th>\n",
       "      <th>baths</th>\n",
       "      <th>purpose</th>\n",
       "      <th>bedrooms</th>\n",
       "      <th>Area_in_Marla</th>\n",
       "      <th>sq_ft</th>\n",
       "    </tr>\n",
       "  </thead>\n",
       "  <tbody>\n",
       "    <tr>\n",
       "      <th>1</th>\n",
       "      <td>Flat</td>\n",
       "      <td>6900000</td>\n",
       "      <td>E-11</td>\n",
       "      <td>Islamabad</td>\n",
       "      <td>3</td>\n",
       "      <td>For Sale</td>\n",
       "      <td>3</td>\n",
       "      <td>5.6</td>\n",
       "      <td>1524.6056</td>\n",
       "    </tr>\n",
       "    <tr>\n",
       "      <th>2</th>\n",
       "      <td>House</td>\n",
       "      <td>16500000</td>\n",
       "      <td>G-15</td>\n",
       "      <td>Islamabad</td>\n",
       "      <td>6</td>\n",
       "      <td>For Sale</td>\n",
       "      <td>5</td>\n",
       "      <td>8.0</td>\n",
       "      <td>2178.0080</td>\n",
       "    </tr>\n",
       "    <tr>\n",
       "      <th>3</th>\n",
       "      <td>House</td>\n",
       "      <td>43500000</td>\n",
       "      <td>Bani Gala</td>\n",
       "      <td>Islamabad</td>\n",
       "      <td>4</td>\n",
       "      <td>For Sale</td>\n",
       "      <td>4</td>\n",
       "      <td>40.0</td>\n",
       "      <td>10890.0400</td>\n",
       "    </tr>\n",
       "    <tr>\n",
       "      <th>4</th>\n",
       "      <td>House</td>\n",
       "      <td>7000000</td>\n",
       "      <td>DHA Defence</td>\n",
       "      <td>Islamabad</td>\n",
       "      <td>3</td>\n",
       "      <td>For Sale</td>\n",
       "      <td>3</td>\n",
       "      <td>8.0</td>\n",
       "      <td>2178.0080</td>\n",
       "    </tr>\n",
       "    <tr>\n",
       "      <th>5</th>\n",
       "      <td>Flat</td>\n",
       "      <td>7800000</td>\n",
       "      <td>E-11</td>\n",
       "      <td>Islamabad</td>\n",
       "      <td>2</td>\n",
       "      <td>For Sale</td>\n",
       "      <td>2</td>\n",
       "      <td>6.2</td>\n",
       "      <td>1687.9562</td>\n",
       "    </tr>\n",
       "    <tr>\n",
       "      <th>...</th>\n",
       "      <td>...</td>\n",
       "      <td>...</td>\n",
       "      <td>...</td>\n",
       "      <td>...</td>\n",
       "      <td>...</td>\n",
       "      <td>...</td>\n",
       "      <td>...</td>\n",
       "      <td>...</td>\n",
       "      <td>...</td>\n",
       "    </tr>\n",
       "    <tr>\n",
       "      <th>99494</th>\n",
       "      <td>Flat</td>\n",
       "      <td>7500000</td>\n",
       "      <td>Bahria Town Karachi</td>\n",
       "      <td>Karachi</td>\n",
       "      <td>3</td>\n",
       "      <td>For Sale</td>\n",
       "      <td>3</td>\n",
       "      <td>8.0</td>\n",
       "      <td>2178.0080</td>\n",
       "    </tr>\n",
       "    <tr>\n",
       "      <th>99495</th>\n",
       "      <td>House</td>\n",
       "      <td>8800000</td>\n",
       "      <td>Bahria Town Karachi</td>\n",
       "      <td>Karachi</td>\n",
       "      <td>4</td>\n",
       "      <td>For Sale</td>\n",
       "      <td>3</td>\n",
       "      <td>8.0</td>\n",
       "      <td>2178.0080</td>\n",
       "    </tr>\n",
       "    <tr>\n",
       "      <th>99496</th>\n",
       "      <td>House</td>\n",
       "      <td>14000000</td>\n",
       "      <td>Bahria Town Karachi</td>\n",
       "      <td>Karachi</td>\n",
       "      <td>3</td>\n",
       "      <td>For Sale</td>\n",
       "      <td>3</td>\n",
       "      <td>8.0</td>\n",
       "      <td>2178.0080</td>\n",
       "    </tr>\n",
       "    <tr>\n",
       "      <th>99497</th>\n",
       "      <td>House</td>\n",
       "      <td>14000000</td>\n",
       "      <td>Bahria Town Karachi</td>\n",
       "      <td>Karachi</td>\n",
       "      <td>4</td>\n",
       "      <td>For Sale</td>\n",
       "      <td>4</td>\n",
       "      <td>14.0</td>\n",
       "      <td>3811.5140</td>\n",
       "    </tr>\n",
       "    <tr>\n",
       "      <th>99498</th>\n",
       "      <td>House</td>\n",
       "      <td>9000000</td>\n",
       "      <td>Bahria Town Karachi</td>\n",
       "      <td>Karachi</td>\n",
       "      <td>3</td>\n",
       "      <td>For Sale</td>\n",
       "      <td>3</td>\n",
       "      <td>9.4</td>\n",
       "      <td>2559.1594</td>\n",
       "    </tr>\n",
       "  </tbody>\n",
       "</table>\n",
       "<p>63123 rows × 9 columns</p>\n",
       "</div>"
      ],
      "text/plain": [
       "      property_type     price             location       city  baths  \\\n",
       "1              Flat   6900000                 E-11  Islamabad      3   \n",
       "2             House  16500000                 G-15  Islamabad      6   \n",
       "3             House  43500000            Bani Gala  Islamabad      4   \n",
       "4             House   7000000          DHA Defence  Islamabad      3   \n",
       "5              Flat   7800000                 E-11  Islamabad      2   \n",
       "...             ...       ...                  ...        ...    ...   \n",
       "99494          Flat   7500000  Bahria Town Karachi    Karachi      3   \n",
       "99495         House   8800000  Bahria Town Karachi    Karachi      4   \n",
       "99496         House  14000000  Bahria Town Karachi    Karachi      3   \n",
       "99497         House  14000000  Bahria Town Karachi    Karachi      4   \n",
       "99498         House   9000000  Bahria Town Karachi    Karachi      3   \n",
       "\n",
       "        purpose  bedrooms  Area_in_Marla       sq_ft  \n",
       "1      For Sale         3            5.6   1524.6056  \n",
       "2      For Sale         5            8.0   2178.0080  \n",
       "3      For Sale         4           40.0  10890.0400  \n",
       "4      For Sale         3            8.0   2178.0080  \n",
       "5      For Sale         2            6.2   1687.9562  \n",
       "...         ...       ...            ...         ...  \n",
       "99494  For Sale         3            8.0   2178.0080  \n",
       "99495  For Sale         3            8.0   2178.0080  \n",
       "99496  For Sale         3            8.0   2178.0080  \n",
       "99497  For Sale         4           14.0   3811.5140  \n",
       "99498  For Sale         3            9.4   2559.1594  \n",
       "\n",
       "[63123 rows x 9 columns]"
      ]
     },
     "execution_count": 22,
     "metadata": {},
     "output_type": "execute_result"
    }
   ],
   "source": [
    "df6"
   ]
  },
  {
   "cell_type": "code",
   "execution_count": 23,
   "id": "15eb112f",
   "metadata": {
    "execution": {
     "iopub.execute_input": "2023-12-31T14:39:51.665003Z",
     "iopub.status.busy": "2023-12-31T14:39:51.663863Z",
     "iopub.status.idle": "2023-12-31T14:39:51.854284Z",
     "shell.execute_reply": "2023-12-31T14:39:51.853113Z"
    },
    "papermill": {
     "duration": 0.207952,
     "end_time": "2023-12-31T14:39:51.856763",
     "exception": false,
     "start_time": "2023-12-31T14:39:51.648811",
     "status": "completed"
    },
    "tags": []
   },
   "outputs": [
    {
     "name": "stderr",
     "output_type": "stream",
     "text": [
      "/tmp/ipykernel_19/2523452391.py:5: SettingWithCopyWarning: \n",
      "A value is trying to be set on a copy of a slice from a DataFrame.\n",
      "Try using .loc[row_indexer,col_indexer] = value instead\n",
      "\n",
      "See the caveats in the documentation: https://pandas.pydata.org/pandas-docs/stable/user_guide/indexing.html#returning-a-view-versus-a-copy\n",
      "  df6[\"location\"] = label.fit_transform(df6[\"location\"])\n"
     ]
    }
   ],
   "source": [
    "from sklearn.preprocessing import LabelEncoder\n",
    "\n",
    "label = LabelEncoder()\n",
    "\n",
    "df6[\"location\"] = label.fit_transform(df6[\"location\"])"
   ]
  },
  {
   "cell_type": "code",
   "execution_count": 24,
   "id": "0ab32c57",
   "metadata": {
    "execution": {
     "iopub.execute_input": "2023-12-31T14:39:51.886416Z",
     "iopub.status.busy": "2023-12-31T14:39:51.885980Z",
     "iopub.status.idle": "2023-12-31T14:39:51.935537Z",
     "shell.execute_reply": "2023-12-31T14:39:51.934594Z"
    },
    "papermill": {
     "duration": 0.067232,
     "end_time": "2023-12-31T14:39:51.937949",
     "exception": false,
     "start_time": "2023-12-31T14:39:51.870717",
     "status": "completed"
    },
    "tags": []
   },
   "outputs": [],
   "source": [
    "df6 = pd.get_dummies(data = df6 , columns = onehot,drop_first = True)"
   ]
  },
  {
   "cell_type": "code",
   "execution_count": 25,
   "id": "786cdbdf",
   "metadata": {
    "execution": {
     "iopub.execute_input": "2023-12-31T14:39:52.029101Z",
     "iopub.status.busy": "2023-12-31T14:39:52.028399Z",
     "iopub.status.idle": "2023-12-31T14:39:53.539755Z",
     "shell.execute_reply": "2023-12-31T14:39:53.538910Z"
    },
    "papermill": {
     "duration": 1.531527,
     "end_time": "2023-12-31T14:39:53.544113",
     "exception": false,
     "start_time": "2023-12-31T14:39:52.012586",
     "status": "completed"
    },
    "tags": []
   },
   "outputs": [
    {
     "data": {
      "text/plain": [
       "<Axes: >"
      ]
     },
     "execution_count": 25,
     "metadata": {},
     "output_type": "execute_result"
    },
    {
     "data": {
      "image/png": "[encoded data removed]",
      "text/plain": [
       "<Figure size 1400x1000 with 2 Axes>"
      ]
     },
     "metadata": {},
     "output_type": "display_data"
    }
   ],
   "source": [
    "df6cor = df6.corr()\n",
    "plt.figure(figsize = (14,10))\n",
    "sns.heatmap(df6cor,annot = True, fmt = \".2f\")"
   ]
  },
  {
   "cell_type": "code",
   "execution_count": 26,
   "id": "cf383c50",
   "metadata": {
    "execution": {
     "iopub.execute_input": "2023-12-31T14:39:53.583395Z",
     "iopub.status.busy": "2023-12-31T14:39:53.582771Z",
     "iopub.status.idle": "2023-12-31T14:39:53.909073Z",
     "shell.execute_reply": "2023-12-31T14:39:53.907882Z"
    },
    "papermill": {
     "duration": 0.349772,
     "end_time": "2023-12-31T14:39:53.912128",
     "exception": false,
     "start_time": "2023-12-31T14:39:53.562356",
     "status": "completed"
    },
    "tags": []
   },
   "outputs": [],
   "source": [
    "import xgboost as xgb"
   ]
  },
  {
   "cell_type": "code",
   "execution_count": 27,
   "id": "fb87c83a",
   "metadata": {
    "execution": {
     "iopub.execute_input": "2023-12-31T14:39:53.952892Z",
     "iopub.status.busy": "2023-12-31T14:39:53.952130Z",
     "iopub.status.idle": "2023-12-31T14:39:53.957375Z",
     "shell.execute_reply": "2023-12-31T14:39:53.956290Z"
    },
    "papermill": {
     "duration": 0.027158,
     "end_time": "2023-12-31T14:39:53.959848",
     "exception": false,
     "start_time": "2023-12-31T14:39:53.932690",
     "status": "completed"
    },
    "tags": []
   },
   "outputs": [],
   "source": [
    "model = xgb.XGBRegressor(n_estimators = 300)"
   ]
  },
  {
   "cell_type": "code",
   "execution_count": 28,
   "id": "1d1fc50a",
   "metadata": {
    "execution": {
     "iopub.execute_input": "2023-12-31T14:39:53.998006Z",
     "iopub.status.busy": "2023-12-31T14:39:53.997271Z",
     "iopub.status.idle": "2023-12-31T14:39:54.016828Z",
     "shell.execute_reply": "2023-12-31T14:39:54.015606Z"
    },
    "papermill": {
     "duration": 0.041877,
     "end_time": "2023-12-31T14:39:54.019660",
     "exception": false,
     "start_time": "2023-12-31T14:39:53.977783",
     "status": "completed"
    },
    "tags": []
   },
   "outputs": [],
   "source": [
    "from sklearn.model_selection import train_test_split\n",
    "\n",
    "x_train,x_test,y_train,y_test = train_test_split(df6.drop(\"price\",axis = 1),df6[\"price\"],test_size = 0.2)"
   ]
  },
  {
   "cell_type": "code",
   "execution_count": 29,
   "id": "c4fc3dd8",
   "metadata": {
    "execution": {
     "iopub.execute_input": "2023-12-31T14:39:54.065123Z",
     "iopub.status.busy": "2023-12-31T14:39:54.064694Z",
     "iopub.status.idle": "2023-12-31T14:39:55.232146Z",
     "shell.execute_reply": "2023-12-31T14:39:55.231291Z"
    },
    "papermill": {
     "duration": 1.194065,
     "end_time": "2023-12-31T14:39:55.234514",
     "exception": false,
     "start_time": "2023-12-31T14:39:54.040449",
     "status": "completed"
    },
    "tags": []
   },
   "outputs": [
    {
     "data": {
      "text/html": [
       "<style>#sk-container-id-1 {color: black;background-color: white;}#sk-container-id-1 pre{padding: 0;}#sk-container-id-1 div.sk-toggleable {background-color: white;}#sk-container-id-1 label.sk-toggleable__label {cursor: pointer;display: block;width: 100%;margin-bottom: 0;padding: 0.3em;box-sizing: border-box;text-align: center;}#sk-container-id-1 label.sk-toggleable__label-arrow:before {content: \"▸\";float: left;margin-right: 0.25em;color: #696969;}#sk-container-id-1 label.sk-toggleable__label-arrow:hover:before {color: black;}#sk-container-id-1 div.sk-estimator:hover label.sk-toggleable__label-arrow:before {color: black;}#sk-container-id-1 div.sk-toggleable__content {max-height: 0;max-width: 0;overflow: hidden;text-align: left;background-color: #f0f8ff;}#sk-container-id-1 div.sk-toggleable__content pre {margin: 0.2em;color: black;border-radius: 0.25em;background-color: #f0f8ff;}#sk-container-id-1 input.sk-toggleable__control:checked~div.sk-toggleable__content {max-height: 200px;max-width: 100%;overflow: auto;}#sk-container-id-1 input.sk-toggleable__control:checked~label.sk-toggleable__label-arrow:before {content: \"▾\";}#sk-container-id-1 div.sk-estimator input.sk-toggleable__control:checked~label.sk-toggleable__label {background-color: #d4ebff;}#sk-container-id-1 div.sk-label input.sk-toggleable__control:checked~label.sk-toggleable__label {background-color: #d4ebff;}#sk-container-id-1 input.sk-hidden--visually {border: 0;clip: rect(1px 1px 1px 1px);clip: rect(1px, 1px, 1px, 1px);height: 1px;margin: -1px;overflow: hidden;padding: 0;position: absolute;width: 1px;}#sk-container-id-1 div.sk-estimator {font-family: monospace;background-color: #f0f8ff;border: 1px dotted black;border-radius: 0.25em;box-sizing: border-box;margin-bottom: 0.5em;}#sk-container-id-1 div.sk-estimator:hover {background-color: #d4ebff;}#sk-container-id-1 div.sk-parallel-item::after {content: \"\";width: 100%;border-bottom: 1px solid gray;flex-grow: 1;}#sk-container-id-1 div.sk-label:hover label.sk-toggleable__label {background-color: #d4ebff;}#sk-container-id-1 div.sk-serial::before {content: \"\";position: absolute;border-left: 1px solid gray;box-sizing: border-box;top: 0;bottom: 0;left: 50%;z-index: 0;}#sk-container-id-1 div.sk-serial {display: flex;flex-direction: column;align-items: center;background-color: white;padding-right: 0.2em;padding-left: 0.2em;position: relative;}#sk-container-id-1 div.sk-item {position: relative;z-index: 1;}#sk-container-id-1 div.sk-parallel {display: flex;align-items: stretch;justify-content: center;background-color: white;position: relative;}#sk-container-id-1 div.sk-item::before, #sk-container-id-1 div.sk-parallel-item::before {content: \"\";position: absolute;border-left: 1px solid gray;box-sizing: border-box;top: 0;bottom: 0;left: 50%;z-index: -1;}#sk-container-id-1 div.sk-parallel-item {display: flex;flex-direction: column;z-index: 1;position: relative;background-color: white;}#sk-container-id-1 div.sk-parallel-item:first-child::after {align-self: flex-end;width: 50%;}#sk-container-id-1 div.sk-parallel-item:last-child::after {align-self: flex-start;width: 50%;}#sk-container-id-1 div.sk-parallel-item:only-child::after {width: 0;}#sk-container-id-1 div.sk-dashed-wrapped {border: 1px dashed gray;margin: 0 0.4em 0.5em 0.4em;box-sizing: border-box;padding-bottom: 0.4em;background-color: white;}#sk-container-id-1 div.sk-label label {font-family: monospace;font-weight: bold;display: inline-block;line-height: 1.2em;}#sk-container-id-1 div.sk-label-container {text-align: center;}#sk-container-id-1 div.sk-container {/* jupyter's `normalize.less` sets `[hidden] { display: none; }` but bootstrap.min.css set `[hidden] { display: none !important; }` so we also need the `!important` here to be able to override the default hidden behavior on the sphinx rendered scikit-learn.org. See: https://github.com/scikit-learn/scikit-learn/issues/21755 */display: inline-block !important;position: relative;}#sk-container-id-1 div.sk-text-repr-fallback {display: none;}</style><div id=\"sk-container-id-1\" class=\"sk-top-container\"><div class=\"sk-text-repr-fallback\"><pre>XGBRegressor(base_score=None, booster=None, callbacks=None,\n",
       "             colsample_bylevel=None, colsample_bynode=None,\n",
       "             colsample_bytree=None, device=None, early_stopping_rounds=None,\n",
       "             enable_categorical=False, eval_metric=None, feature_types=None,\n",
       "             gamma=None, grow_policy=None, importance_type=None,\n",
       "             interaction_constraints=None, learning_rate=None, max_bin=None,\n",
       "             max_cat_threshold=None, max_cat_to_onehot=None,\n",
       "             max_delta_step=None, max_depth=None, max_leaves=None,\n",
       "             min_child_weight=None, missing=nan, monotone_constraints=None,\n",
       "             multi_strategy=None, n_estimators=300, n_jobs=None,\n",
       "             num_parallel_tree=None, random_state=None, ...)</pre><b>In a Jupyter environment, please rerun this cell to show the HTML representation or trust the notebook. <br />On GitHub, the HTML representation is unable to render, please try loading this page with nbviewer.org.</b></div><div class=\"sk-container\" hidden><div class=\"sk-item\"><div class=\"sk-estimator sk-toggleable\"><input class=\"sk-toggleable__control sk-hidden--visually\" id=\"sk-estimator-id-1\" type=\"checkbox\" checked><label for=\"sk-estimator-id-1\" class=\"sk-toggleable__label sk-toggleable__label-arrow\">XGBRegressor</label><div class=\"sk-toggleable__content\"><pre>XGBRegressor(base_score=None, booster=None, callbacks=None,\n",
       "             colsample_bylevel=None, colsample_bynode=None,\n",
       "             colsample_bytree=None, device=None, early_stopping_rounds=None,\n",
       "             enable_categorical=False, eval_metric=None, feature_types=None,\n",
       "             gamma=None, grow_policy=None, importance_type=None,\n",
       "             interaction_constraints=None, learning_rate=None, max_bin=None,\n",
       "             max_cat_threshold=None, max_cat_to_onehot=None,\n",
       "             max_delta_step=None, max_depth=None, max_leaves=None,\n",
       "             min_child_weight=None, missing=nan, monotone_constraints=None,\n",
       "             multi_strategy=None, n_estimators=300, n_jobs=None,\n",
       "             num_parallel_tree=None, random_state=None, ...)</pre></div></div></div></div></div>"
      ],
      "text/plain": [
       "XGBRegressor(base_score=None, booster=None, callbacks=None,\n",
       "             colsample_bylevel=None, colsample_bynode=None,\n",
       "             colsample_bytree=None, device=None, early_stopping_rounds=None,\n",
       "             enable_categorical=False, eval_metric=None, feature_types=None,\n",
       "             gamma=None, grow_policy=None, importance_type=None,\n",
       "             interaction_constraints=None, learning_rate=None, max_bin=None,\n",
       "             max_cat_threshold=None, max_cat_to_onehot=None,\n",
       "             max_delta_step=None, max_depth=None, max_leaves=None,\n",
       "             min_child_weight=None, missing=nan, monotone_constraints=None,\n",
       "             multi_strategy=None, n_estimators=300, n_jobs=None,\n",
       "             num_parallel_tree=None, random_state=None, ...)"
      ]
     },
     "execution_count": 29,
     "metadata": {},
     "output_type": "execute_result"
    }
   ],
   "source": [
    "model.fit(x_train,y_train)"
   ]
  },
  {
   "cell_type": "code",
   "execution_count": 30,
   "id": "d3660756",
   "metadata": {
    "execution": {
     "iopub.execute_input": "2023-12-31T14:39:55.274856Z",
     "iopub.status.busy": "2023-12-31T14:39:55.274463Z",
     "iopub.status.idle": "2023-12-31T14:39:55.350679Z",
     "shell.execute_reply": "2023-12-31T14:39:55.349765Z"
    },
    "papermill": {
     "duration": 0.099751,
     "end_time": "2023-12-31T14:39:55.353294",
     "exception": false,
     "start_time": "2023-12-31T14:39:55.253543",
     "status": "completed"
    },
    "tags": []
   },
   "outputs": [
    {
     "data": {
      "text/plain": [
       "0.89076260565295"
      ]
     },
     "execution_count": 30,
     "metadata": {},
     "output_type": "execute_result"
    }
   ],
   "source": [
    "model.score(x_test,y_test)"
   ]
  },
  {
   "cell_type": "code",
   "execution_count": 31,
   "id": "30896b14",
   "metadata": {
    "execution": {
     "iopub.execute_input": "2023-12-31T14:39:55.394237Z",
     "iopub.status.busy": "2023-12-31T14:39:55.393826Z",
     "iopub.status.idle": "2023-12-31T14:39:55.463948Z",
     "shell.execute_reply": "2023-12-31T14:39:55.462821Z"
    },
    "papermill": {
     "duration": 0.093498,
     "end_time": "2023-12-31T14:39:55.466816",
     "exception": false,
     "start_time": "2023-12-31T14:39:55.373318",
     "status": "completed"
    },
    "tags": []
   },
   "outputs": [],
   "source": [
    "y_preds = model.predict(x_test)"
   ]
  },
  {
   "cell_type": "code",
   "execution_count": 32,
   "id": "1d290ab5",
   "metadata": {
    "execution": {
     "iopub.execute_input": "2023-12-31T14:39:55.508398Z",
     "iopub.status.busy": "2023-12-31T14:39:55.507965Z",
     "iopub.status.idle": "2023-12-31T14:39:55.516390Z",
     "shell.execute_reply": "2023-12-31T14:39:55.515315Z"
    },
    "papermill": {
     "duration": 0.031194,
     "end_time": "2023-12-31T14:39:55.518737",
     "exception": false,
     "start_time": "2023-12-31T14:39:55.487543",
     "status": "completed"
    },
    "tags": []
   },
   "outputs": [
    {
     "data": {
      "text/plain": [
       "80173    11000000\n",
       "67457     7500000\n",
       "41839    16000000\n",
       "67026     9500000\n",
       "65693    23600000\n",
       "           ...   \n",
       "3140      2500000\n",
       "9812      5500000\n",
       "63091    14200000\n",
       "80879    42500000\n",
       "41296       23000\n",
       "Name: price, Length: 12625, dtype: int64"
      ]
     },
     "execution_count": 32,
     "metadata": {},
     "output_type": "execute_result"
    }
   ],
   "source": [
    "y_test"
   ]
  },
  {
   "cell_type": "code",
   "execution_count": 33,
   "id": "ec8b243b",
   "metadata": {
    "execution": {
     "iopub.execute_input": "2023-12-31T14:39:55.559628Z",
     "iopub.status.busy": "2023-12-31T14:39:55.559230Z",
     "iopub.status.idle": "2023-12-31T14:39:55.568894Z",
     "shell.execute_reply": "2023-12-31T14:39:55.567890Z"
    },
    "papermill": {
     "duration": 0.033281,
     "end_time": "2023-12-31T14:39:55.571192",
     "exception": false,
     "start_time": "2023-12-31T14:39:55.537911",
     "status": "completed"
    },
    "tags": []
   },
   "outputs": [
    {
     "data": {
      "text/plain": [
       "property_type                         House\n",
       "price                               9500000\n",
       "location         Rehmanpura (Ferozpur Road)\n",
       "city                                 Lahore\n",
       "baths                                     4\n",
       "purpose                            For Sale\n",
       "bedrooms                                  4\n",
       "Area_in_Marla                           2.0\n",
       "sq_ft                               544.502\n",
       "Name: 3885, dtype: object"
      ]
     },
     "execution_count": 33,
     "metadata": {},
     "output_type": "execute_result"
    }
   ],
   "source": [
    "df3.loc[3885]"
   ]
  },
  {
   "cell_type": "code",
   "execution_count": 34,
   "id": "823c829d",
   "metadata": {
    "execution": {
     "iopub.execute_input": "2023-12-31T14:39:55.612680Z",
     "iopub.status.busy": "2023-12-31T14:39:55.612295Z",
     "iopub.status.idle": "2023-12-31T14:39:55.617334Z",
     "shell.execute_reply": "2023-12-31T14:39:55.616267Z"
    },
    "papermill": {
     "duration": 0.028608,
     "end_time": "2023-12-31T14:39:55.619760",
     "exception": false,
     "start_time": "2023-12-31T14:39:55.591152",
     "status": "completed"
    },
    "tags": []
   },
   "outputs": [],
   "source": [
    "from sklearn.metrics import mean_absolute_error,mean_squared_error"
   ]
  },
  {
   "cell_type": "code",
   "execution_count": 35,
   "id": "be372e94",
   "metadata": {
    "execution": {
     "iopub.execute_input": "2023-12-31T14:39:55.660950Z",
     "iopub.status.busy": "2023-12-31T14:39:55.660313Z",
     "iopub.status.idle": "2023-12-31T14:39:55.667484Z",
     "shell.execute_reply": "2023-12-31T14:39:55.666300Z"
    },
    "papermill": {
     "duration": 0.030759,
     "end_time": "2023-12-31T14:39:55.669788",
     "exception": false,
     "start_time": "2023-12-31T14:39:55.639029",
     "status": "completed"
    },
    "tags": []
   },
   "outputs": [
    {
     "data": {
      "text/plain": [
       "1688109.5767008697"
      ]
     },
     "execution_count": 35,
     "metadata": {},
     "output_type": "execute_result"
    }
   ],
   "source": [
    "mean_absolute_error(y_test,y_preds)"
   ]
  },
  {
   "cell_type": "code",
   "execution_count": 36,
   "id": "a16faa83",
   "metadata": {
    "execution": {
     "iopub.execute_input": "2023-12-31T14:39:55.713438Z",
     "iopub.status.busy": "2023-12-31T14:39:55.712694Z",
     "iopub.status.idle": "2023-12-31T14:39:55.720283Z",
     "shell.execute_reply": "2023-12-31T14:39:55.719395Z"
    },
    "papermill": {
     "duration": 0.03291,
     "end_time": "2023-12-31T14:39:55.722494",
     "exception": false,
     "start_time": "2023-12-31T14:39:55.689584",
     "status": "completed"
    },
    "tags": []
   },
   "outputs": [
    {
     "data": {
      "text/plain": [
       "9363066172765.814"
      ]
     },
     "execution_count": 36,
     "metadata": {},
     "output_type": "execute_result"
    }
   ],
   "source": [
    "mean_squared_error(y_test,y_preds)"
   ]
  }
 ],
 "metadata": {
  "kaggle": {
   "accelerator": "none",
   "dataSources": [
    {
     "datasetId": 4172651,
     "sourceId": 7211246,
     "sourceType": "datasetVersion"
    }
   ],
   "dockerImageVersionId": 30626,
   "isGpuEnabled": false,
   "isInternetEnabled": true,
   "language": "python",
   "sourceType": "notebook"
  },
  "kernelspec": {
   "display_name": "Python 3",
   "language": "python",
   "name": "python3"
  },
  "language_info": {
   "codemirror_mode": {
    "name": "ipython",
    "version": 3
   },
   "file_extension": ".py",
   "mimetype": "text/x-python",
   "name": "python",
   "nbconvert_exporter": "python",
   "pygments_lexer": "ipython3",
   "version": "3.10.12"
  },
  "papermill": {
   "default_parameters": {},
   "duration": 11.265039,
   "end_time": "2023-12-31T14:39:56.362972",
   "environment_variables": {},
   "exception": null,
   "input_path": "__notebook__.ipynb",
   "output_path": "__notebook__.ipynb",
   "parameters": {},
   "start_time": "2023-12-31T14:39:45.097933",
   "version": "2.4.0"
  }
 },
 "nbformat": 4,
 "nbformat_minor": 5
}
